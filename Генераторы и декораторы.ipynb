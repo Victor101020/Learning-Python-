{
 "cells": [
  {
   "cell_type": "markdown",
   "id": "2da01b2d-85fa-442f-b21a-3d085fd3e7b6",
   "metadata": {},
   "source": [
    "# ГЕНЕРАТОРЫ "
   ]
  },
  {
   "cell_type": "code",
   "execution_count": 22,
   "id": "2c59a3be-ba5f-43c9-9390-87c6aacbcdb3",
   "metadata": {},
   "outputs": [],
   "source": [
    "from itertools import *"
   ]
  },
  {
   "cell_type": "markdown",
   "id": "042720a8-6a36-4b7e-8ad0-030bf92e9728",
   "metadata": {},
   "source": [
    "## Генератор имеет структуру:"
   ]
  },
  {
   "cell_type": "code",
   "execution_count": 8,
   "id": "d75de6d7-0874-421b-a809-f580cf66c83e",
   "metadata": {},
   "outputs": [
    {
     "name": "stdout",
     "output_type": "stream",
     "text": [
      "<class 'list'>\n",
      "[0, 1, 4, 9, 16, 25, 36, 49, 64, 81]\n"
     ]
    }
   ],
   "source": [
    "s = [i*i for i in range(10)]\n",
    "print(type(s))\n",
    "print(s)"
   ]
  },
  {
   "cell_type": "markdown",
   "id": "75102f63-1cf4-48e6-a700-ac5883110caf",
   "metadata": {},
   "source": [
    "### Генератор словаря"
   ]
  },
  {
   "cell_type": "code",
   "execution_count": 12,
   "id": "ceb6e893-d476-481f-97fc-bfec9e7f2fb4",
   "metadata": {},
   "outputs": [
    {
     "name": "stdout",
     "output_type": "stream",
     "text": [
      "<class 'dict'>\n",
      "{'A': 0, 'B': 1, 'C': 2, 'D': 3, 'E': 4, 'F': 5, 'G': 6, 'H': 7, 'I': 8, 'J': 9}\n"
     ]
    }
   ],
   "source": [
    "s_1 = {chr(i+65): i for i in range(10)}\n",
    "print(type(s_1))\n",
    "print(s_1)          "
   ]
  },
  {
   "cell_type": "markdown",
   "id": "6ba42300-1128-4d60-b0c6-d805cb8fbe94",
   "metadata": {},
   "source": [
    "# ИТТЕРАТОРЫ"
   ]
  },
  {
   "cell_type": "markdown",
   "id": "a75178d6-be2d-4286-a32e-bd67f594d8d6",
   "metadata": {},
   "source": [
    "## range и enumerate"
   ]
  },
  {
   "cell_type": "code",
   "execution_count": 17,
   "id": "9f571736-94ea-4e38-988c-cfa9a309f0ac",
   "metadata": {},
   "outputs": [
    {
     "data": {
      "text/plain": [
       "[0, 1, 2, 3, 4, 5, 6, 7, 8, 9]"
      ]
     },
     "execution_count": 17,
     "metadata": {},
     "output_type": "execute_result"
    }
   ],
   "source": [
    "list(range(10))"
   ]
  },
  {
   "cell_type": "code",
   "execution_count": 18,
   "id": "afa5b5e5-0065-4ca3-97b9-21ba61048bcf",
   "metadata": {},
   "outputs": [
    {
     "data": {
      "text/plain": [
       "[(0, 0),\n",
       " (1, 1),\n",
       " (2, 2),\n",
       " (3, 3),\n",
       " (4, 4),\n",
       " (5, 5),\n",
       " (6, 6),\n",
       " (7, 7),\n",
       " (8, 8),\n",
       " (9, 9)]"
      ]
     },
     "execution_count": 18,
     "metadata": {},
     "output_type": "execute_result"
    }
   ],
   "source": [
    "list(enumerate(range(10)))"
   ]
  },
  {
   "cell_type": "markdown",
   "id": "b39e8a60-1b3a-4cae-bcd5-01498f1c0a10",
   "metadata": {},
   "source": [
    "## Модуль itertools - библиотека генераторов"
   ]
  },
  {
   "cell_type": "code",
   "execution_count": 25,
   "id": "af4c3599-e425-453d-ab1d-88c5bc951353",
   "metadata": {},
   "outputs": [
    {
     "data": {
      "text/plain": [
       "['__doc__',\n",
       " '__loader__',\n",
       " '__name__',\n",
       " '__package__',\n",
       " '__spec__',\n",
       " '_grouper',\n",
       " '_tee',\n",
       " '_tee_dataobject',\n",
       " 'accumulate',\n",
       " 'chain',\n",
       " 'combinations',\n",
       " 'combinations_with_replacement',\n",
       " 'compress',\n",
       " 'count',\n",
       " 'cycle',\n",
       " 'dropwhile',\n",
       " 'filterfalse',\n",
       " 'groupby',\n",
       " 'islice',\n",
       " 'permutations',\n",
       " 'product',\n",
       " 'repeat',\n",
       " 'starmap',\n",
       " 'takewhile',\n",
       " 'tee',\n",
       " 'zip_longest']"
      ]
     },
     "execution_count": 25,
     "metadata": {},
     "output_type": "execute_result"
    }
   ],
   "source": [
    "dir(itertools)"
   ]
  },
  {
   "cell_type": "markdown",
   "id": "8582103c-0724-4d36-a1ac-c55953af891c",
   "metadata": {},
   "source": [
    "### Иттератор count - бесконечная последовательность с определеного элемента"
   ]
  },
  {
   "cell_type": "code",
   "execution_count": null,
   "id": "187c7503-98cc-49a2-9311-1062d6f79bfc",
   "metadata": {},
   "outputs": [],
   "source": [
    "for i in count(29):   "
   ]
  },
  {
   "cell_type": "code",
   "execution_count": null,
   "id": "d3cdacd6-d1cd-401f-a0c9-97b1d283b28b",
   "metadata": {},
   "outputs": [],
   "source": []
  }
 ],
 "metadata": {
  "kernelspec": {
   "display_name": "Python 3 (ipykernel)",
   "language": "python",
   "name": "python3"
  },
  "language_info": {
   "codemirror_mode": {
    "name": "ipython",
    "version": 3
   },
   "file_extension": ".py",
   "mimetype": "text/x-python",
   "name": "python",
   "nbconvert_exporter": "python",
   "pygments_lexer": "ipython3",
   "version": "3.7.6"
  }
 },
 "nbformat": 4,
 "nbformat_minor": 5
}
