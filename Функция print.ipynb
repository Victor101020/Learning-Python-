{
 "cells": [
  {
   "cell_type": "markdown",
   "id": "8c796530-7cb8-484d-8304-d8bc4c0bd9bc",
   "metadata": {},
   "source": [
    "## ШПАРГАЛКА ПО ФУНКЦИИ PRINT()"
   ]
  },
  {
   "cell_type": "code",
   "execution_count": null,
   "id": "beb057ab-dea5-40dc-a707-029e7b9e5bae",
   "metadata": {},
   "outputs": [],
   "source": [
    "#Список для тестировани \n",
    "l = ['1','2','34','4','4']"
   ]
  },
  {
   "cell_type": "markdown",
   "id": "cf997df5-b395-41df-8489-9d0bd0553076",
   "metadata": {},
   "source": [
    "Для того, чтобы вывести все из объекта нужно поставить *"
   ]
  },
  {
   "cell_type": "code",
   "execution_count": 2,
   "id": "65033d30-8236-4ed2-a871-5f35df4cc6a4",
   "metadata": {},
   "outputs": [
    {
     "name": "stdout",
     "output_type": "stream",
     "text": [
      "1 2 34 4 4\n"
     ]
    }
   ],
   "source": [
    "print(*l)"
   ]
  },
  {
   "cell_type": "markdown",
   "id": "d8bdf2d0-5d2e-409b-ad9a-1265d93cbe68",
   "metadata": {},
   "source": [
    "Для того, чтобы вывести список через заяпятую:"
   ]
  },
  {
   "cell_type": "code",
   "execution_count": 3,
   "id": "d4770abb-0401-425f-a92f-9492e7c16b21",
   "metadata": {},
   "outputs": [
    {
     "name": "stdout",
     "output_type": "stream",
     "text": [
      "1, 2, 34, 4, 4\n"
     ]
    }
   ],
   "source": [
    "print (\", \".join(l))"
   ]
  },
  {
   "cell_type": "markdown",
   "id": "ef907f20-03b6-4b0f-a8a5-ebe5d35d7fa4",
   "metadata": {},
   "source": [
    "# ФУНКЦИЯ .format()"
   ]
  },
  {
   "cell_type": "markdown",
   "id": "e85e3291-518e-4dfb-bc99-ab1db4ca8165",
   "metadata": {},
   "source": [
    "### ВЫВОД МНОЖЕСТВА ПЕРЕМЕННЫХ "
   ]
  },
  {
   "cell_type": "code",
   "execution_count": 3,
   "id": "5d138ab2-48b1-4764-a21c-c9b5cb20bf30",
   "metadata": {},
   "outputs": [
    {
     "name": "stdout",
     "output_type": "stream",
     "text": [
      "Вывод посл-ти: 1, 5, Hello\n"
     ]
    }
   ],
   "source": [
    "a = 1\n",
    "b = 5\n",
    "c = 'Hello'\n",
    "print('Вывод посл-ти: {}, {}, {}'.format(a, b, c))"
   ]
  },
  {
   "cell_type": "code",
   "execution_count": 1,
   "id": "996ad8d9-6773-4abc-a0f0-f5b1b17a4250",
   "metadata": {},
   "outputs": [
    {
     "name": "stdout",
     "output_type": "stream",
     "text": [
      "Available Themes: \n",
      "   chesterish\n",
      "   grade3\n",
      "   gruvboxd\n",
      "   gruvboxl\n",
      "   monokai\n",
      "   oceans16\n",
      "   onedork\n",
      "   solarizedd\n",
      "   solarizedl\n"
     ]
    }
   ],
   "source": [
    "!jt -l\n"
   ]
  },
  {
   "cell_type": "code",
   "execution_count": 3,
   "id": "d3154e0e-c0a7-464b-89ed-c890a4502c53",
   "metadata": {},
   "outputs": [],
   "source": [
    "!jt -t gruvboxd -T -N -kl"
   ]
  },
  {
   "cell_type": "code",
   "execution_count": 8,
   "id": "8d391d0c-aa7f-4b54-b4ad-04bcdb87e1cf",
   "metadata": {},
   "outputs": [
    {
     "name": "stdout",
     "output_type": "stream",
     "text": [
      "Reset css and font defaults in:\n",
      "/home/victor/.jupyter/custom &\n",
      "/home/victor/.local/share/jupyter/nbextensions\n"
     ]
    }
   ],
   "source": [
    "!jt -r"
   ]
  },
  {
   "cell_type": "code",
   "execution_count": null,
   "id": "e8155227-f23b-4cc0-8b68-3531f22bff99",
   "metadata": {},
   "outputs": [],
   "source": []
  }
 ],
 "metadata": {
  "kernelspec": {
   "display_name": "Python 3 (ipykernel)",
   "language": "python",
   "name": "python3"
  },
  "language_info": {
   "codemirror_mode": {
    "name": "ipython",
    "version": 3
   },
   "file_extension": ".py",
   "mimetype": "text/x-python",
   "name": "python",
   "nbconvert_exporter": "python",
   "pygments_lexer": "ipython3",
   "version": "3.7.6"
  }
 },
 "nbformat": 4,
 "nbformat_minor": 5
}
