{
 "cells": [
  {
   "cell_type": "markdown",
   "id": "98e4f302-c273-43fb-873b-77c1f71be109",
   "metadata": {},
   "source": [
    "# ФУНКЦИИ\n",
    "## Функция в питоне - объект, говорят, что функцией считается объект, у которого есть служебный метод __call__()"
   ]
  },
  {
   "cell_type": "code",
   "execution_count": 23,
   "id": "2060a775-41a2-4ad6-804e-5cdf0c71d20a",
   "metadata": {},
   "outputs": [],
   "source": [
    "def function(n: int) -> int:\n",
    "    '''Описание функции'''\n",
    "    return n+1"
   ]
  },
  {
   "cell_type": "markdown",
   "id": "a291ea09-c0c0-4925-8891-621529fc4611",
   "metadata": {},
   "source": [
    "#### У функции function есть объект .__code__( то, что связано с кодом) и есть co_varnames - список локальных переменных"
   ]
  },
  {
   "cell_type": "code",
   "execution_count": 19,
   "id": "5ccd5411-e0bd-4a79-9ab1-4b63078ff09c",
   "metadata": {},
   "outputs": [
    {
     "data": {
      "text/plain": [
       "('n',)"
      ]
     },
     "execution_count": 19,
     "metadata": {},
     "output_type": "execute_result"
    }
   ],
   "source": [
    "function.__code__.co_varnames  #результат - кортеж переменных"
   ]
  },
  {
   "cell_type": "markdown",
   "id": "40095b57-1d3c-4717-9ec7-75f63f85119a",
   "metadata": {},
   "source": [
    "### У функции есть область памяти где она располагается"
   ]
  },
  {
   "cell_type": "code",
   "execution_count": 20,
   "id": "86b58471-0dba-453b-b7b7-7057123aa92c",
   "metadata": {},
   "outputs": [
    {
     "data": {
      "text/plain": [
       "140076720875856"
      ]
     },
     "execution_count": 20,
     "metadata": {},
     "output_type": "execute_result"
    }
   ],
   "source": [
    "id(function)"
   ]
  },
  {
   "cell_type": "markdown",
   "id": "7dbc0bc7-9210-4fef-bb71-da55f75dc989",
   "metadata": {},
   "source": [
    "### Если указать при  создании функции тип принимаемых значений, это отобразиться в аннотации "
   ]
  },
  {
   "cell_type": "code",
   "execution_count": 21,
   "id": "69ee4c7d-d20b-443b-81a2-21e5993a726e",
   "metadata": {},
   "outputs": [
    {
     "data": {
      "text/plain": [
       "{'n': int, 'return': int}"
      ]
     },
     "execution_count": 21,
     "metadata": {},
     "output_type": "execute_result"
    }
   ],
   "source": [
    "function.__annotations__"
   ]
  },
  {
   "cell_type": "markdown",
   "id": "280995b0-3634-4e6d-9b6a-73841bb6fd23",
   "metadata": {},
   "source": [
    "### Если функция объет, мы можем написать любое кол-во свойств функции"
   ]
  },
  {
   "cell_type": "code",
   "execution_count": 22,
   "id": "292c540c-de04-47e0-89c1-132d5b75046b",
   "metadata": {},
   "outputs": [
    {
     "data": {
      "text/plain": [
       "{'property_1': 'text', 'property_2': 3}"
      ]
     },
     "execution_count": 22,
     "metadata": {},
     "output_type": "execute_result"
    }
   ],
   "source": [
    "function.property_1 = 'text'\n",
    "function.property_2 = 3\n",
    "function.__dict__"
   ]
  },
  {
   "cell_type": "markdown",
   "id": "097936c5-d0a1-4d21-a740-be464b8d972f",
   "metadata": {},
   "source": [
    "### Чтобы получить описание функции, необходимо вызвать свойство .__doc__"
   ]
  },
  {
   "cell_type": "code",
   "execution_count": 24,
   "id": "b8caa127-84da-4d18-987c-12091ca79a04",
   "metadata": {},
   "outputs": [
    {
     "data": {
      "text/plain": [
       "'Описание функции'"
      ]
     },
     "execution_count": 24,
     "metadata": {},
     "output_type": "execute_result"
    }
   ],
   "source": [
    "function.__doc__"
   ]
  },
  {
   "cell_type": "markdown",
   "id": "26d62681-e8f2-42d3-a956-9fccb50821f9",
   "metadata": {},
   "source": [
    "## БЛОК try - except\n",
    "### Предназначен для предотвращения остановки программы при ошибке"
   ]
  },
  {
   "cell_type": "code",
   "execution_count": 26,
   "id": "e19f2538-2344-4f21-8d06-532e6a216942",
   "metadata": {},
   "outputs": [],
   "source": [
    "try:\n",
    "    pass #выполни  действи\n",
    "except ValueError: # если действие выполнилось с ошибкой\n",
    "    print('Error!') #выполни это действие\n",
    "    \n",
    "# так же можно прямо в функции определить исключение с помощью raise"
   ]
  },
  {
   "cell_type": "code",
   "execution_count": null,
   "id": "a0b472ef-39c2-41f5-b60f-be864be6a365",
   "metadata": {},
   "outputs": [],
   "source": []
  }
 ],
 "metadata": {
  "kernelspec": {
   "display_name": "Python 3 (ipykernel)",
   "language": "python",
   "name": "python3"
  },
  "language_info": {
   "codemirror_mode": {
    "name": "ipython",
    "version": 3
   },
   "file_extension": ".py",
   "mimetype": "text/x-python",
   "name": "python",
   "nbconvert_exporter": "python",
   "pygments_lexer": "ipython3",
   "version": "3.7.6"
  }
 },
 "nbformat": 4,
 "nbformat_minor": 5
}
