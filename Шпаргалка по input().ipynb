{
 "cells": [
  {
   "cell_type": "markdown",
   "id": "80305d1a-c293-488a-ab86-68b6a7721921",
   "metadata": {},
   "source": [
    "Шпаргалка по функции input()"
   ]
  },
  {
   "cell_type": "code",
   "execution_count": 1,
   "id": "73c6770c-9f47-40dc-9428-5f9f845f10e7",
   "metadata": {},
   "outputs": [
    {
     "name": "stdin",
     "output_type": "stream",
     "text": [
      " 1 2 3 9 8 6 5 6 \n"
     ]
    },
    {
     "name": "stdout",
     "output_type": "stream",
     "text": [
      "['1', '2', '3', '9', '8', '6', '5', '6']\n"
     ]
    }
   ],
   "source": [
    "#Ввести значения с клавиатуры в список\n",
    "a = input().split()\n",
    "print(a)"
   ]
  },
  {
   "cell_type": "code",
   "execution_count": null,
   "id": "958cb779-e9e8-4e0a-b96e-9f099431f5e1",
   "metadata": {},
   "outputs": [],
   "source": []
  }
 ],
 "metadata": {
  "kernelspec": {
   "display_name": "Python 3 (ipykernel)",
   "language": "python",
   "name": "python3"
  },
  "language_info": {
   "codemirror_mode": {
    "name": "ipython",
    "version": 3
   },
   "file_extension": ".py",
   "mimetype": "text/x-python",
   "name": "python",
   "nbconvert_exporter": "python",
   "pygments_lexer": "ipython3",
   "version": "3.7.6"
  }
 },
 "nbformat": 4,
 "nbformat_minor": 5
}
